{
 "cells": [
  {
   "cell_type": "code",
   "execution_count": null,
   "metadata": {},
   "outputs": [],
   "source": [
    "import jsonlines"
   ]
  },
  {
   "cell_type": "code",
   "execution_count": null,
   "metadata": {},
   "outputs": [],
   "source": [
    "def make_conversation(question, answer):\n",
    "    return {\"conversations\":[{\"role\": \"system\", \"content\":\"You are an English-speaking recruiter.\"},\n",
    "                             {\"role\": \"user\", \"content\": str(question)},\n",
    "                             {\"role\": \"assistant\", \"content\": str(answer)}]}"
   ]
  },
  {
   "cell_type": "code",
   "execution_count": null,
   "metadata": {},
   "outputs": [],
   "source": [
    "with jsonlines.open(\"train_data/results.jsonl\", \"r\") as rawfile:\n",
    "    dataset = [make_conversation(**line) for line in rawfile]"
   ]
  },
  {
   "cell_type": "code",
   "execution_count": null,
   "metadata": {},
   "outputs": [],
   "source": [
    "import random\n",
    "\n",
    "random.shuffle(dataset)\n",
    "\n",
    "with jsonlines.open(\"train_data/training_set_.jsonl\", \"w\") as trainfile:\n",
    "    trainfile.write_all(dataset[:int(len(dataset) * 0.95)])\n",
    "\n",
    "with jsonlines.open(\"train_data/validation_set_.jsonl\", \"w\") as valfile:\n",
    "    valfile.write_all(dataset[int(len(dataset) * 0.95):])"
   ]
  },
  {
   "cell_type": "code",
   "execution_count": null,
   "metadata": {},
   "outputs": [],
   "source": []
  }
 ],
 "metadata": {
  "kernelspec": {
   "display_name": "venv",
   "language": "python",
   "name": "python3"
  },
  "language_info": {
   "codemirror_mode": {
    "name": "ipython",
    "version": 3
   },
   "file_extension": ".py",
   "mimetype": "text/x-python",
   "name": "python",
   "nbconvert_exporter": "python",
   "pygments_lexer": "ipython3",
   "version": "3.12.3"
  }
 },
 "nbformat": 4,
 "nbformat_minor": 2
}
