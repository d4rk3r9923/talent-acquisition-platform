{
 "cells": [
  {
   "cell_type": "code",
   "execution_count": null,
   "metadata": {
    "id": "p2jgYfWi28wH"
   },
   "outputs": [],
   "source": [
    "%%capture\n",
    "!pip install jsonlines\n",
    "!pip install evaluate\n",
    "!pip install bert_score"
   ]
  },
  {
   "cell_type": "code",
   "execution_count": null,
   "metadata": {
    "id": "6u5tCWQNrkcd"
   },
   "outputs": [],
   "source": [
    "import pickle\n",
    "\n",
    "# To load back the saved data\n",
    "with open('predictions_references.pkl', 'rb') as file:\n",
    "    data = pickle.load(file)\n",
    "    fined_predictions = data['fined_predictions']\n",
    "    fined_references = data['fined_references']\n",
    "    predictions = data['predictions']\n",
    "    references = data['references']"
   ]
  },
  {
   "cell_type": "code",
   "execution_count": null,
   "metadata": {
    "id": "0xlXC07Yrv4l"
   },
   "outputs": [],
   "source": [
    "def custom_metric(predictions, references):\n",
    "    valid = 0\n",
    "    correct = 0\n",
    "\n",
    "    for prediction, reference in zip(predictions, references):\n",
    "        try:\n",
    "            reference = eval(reference)\n",
    "            keys = set(reference.keys()) - set([\"summary\", \"location\", \"specialization\", \"industry\", \"leadership_experience\", \"project\", \"team_experience\", \"other\"])\n",
    "            total_valid_fail = len(references)\n",
    "            total_correct_wrong = len(keys) * total_valid_fail\n",
    "\n",
    "            prediction = eval(prediction)\n",
    "\n",
    "            valid += 1\n",
    "            for key in keys:\n",
    "                if reference[key] == prediction[key]:\n",
    "                    correct += 1\n",
    "                else:\n",
    "                    pass\n",
    "        except:\n",
    "            pass\n",
    "    return float(f\"{valid/total_valid_fail * 100:.2f}\"), float(f\"{correct/total_correct_wrong * 100:.2f}\")"
   ]
  },
  {
   "cell_type": "code",
   "execution_count": null,
   "metadata": {
    "id": "ifPOltssrz2m"
   },
   "outputs": [],
   "source": [
    "import evaluate\n",
    "import numpy as np\n",
    "\n",
    "# Load metrics\n",
    "bertscore_metric = evaluate.load(\"bertscore\")\n",
    "\n",
    "def compute_metrics(predictions, references):\n",
    "    bertscore = bertscore_metric.compute(predictions=predictions, references=references, lang=\"en\")\n",
    "    bertscore = {key: np.mean(bertscore[key]) for key in bertscore if key != \"hashcode\"}\n",
    "    valid, correct = custom_metric(predictions=predictions, references=references)\n",
    "\n",
    "    return {\n",
    "        \"bertscore\": bertscore,\n",
    "        \"valid\": valid,\n",
    "        \"correct\": correct,\n",
    "        }"
   ]
  },
  {
   "cell_type": "code",
   "execution_count": null,
   "metadata": {
    "colab": {
     "base_uri": "https://localhost:8080/"
    },
    "id": "nhSSYXADqQOP",
    "outputId": "78863a62-b30d-4a34-c71f-49bde5728850"
   },
   "outputs": [],
   "source": [
    "fined_results = compute_metrics(predictions=fined_predictions, references=fined_references)\n",
    "results = compute_metrics(predictions=predictions, references=references)"
   ]
  },
  {
   "cell_type": "code",
   "execution_count": null,
   "metadata": {
    "colab": {
     "base_uri": "https://localhost:8080/"
    },
    "id": "zRr8e_r73MZG",
    "outputId": "e230da8a-9924-4af0-b97b-da9e42f5581a"
   },
   "outputs": [],
   "source": [
    "from pprint import pprint\n",
    "print(\"fined_results:\\n\")\n",
    "pprint(fined_results)\n",
    "print(\"\\n\\nresults:\\n\")\n",
    "pprint(results)"
   ]
  },
  {
   "cell_type": "code",
   "execution_count": null,
   "metadata": {
    "id": "EaW2A7xc_DN4"
   },
   "outputs": [],
   "source": [
    "import json\n",
    "\n",
    "# Save to file\n",
    "with open('fined_results.json', 'w') as file:\n",
    "    json.dump(fined_results, file)\n",
    "\n",
    "with open('results.json', 'w') as file:\n",
    "    json.dump(results, file)"
   ]
  },
  {
   "cell_type": "code",
   "execution_count": null,
   "metadata": {
    "colab": {
     "base_uri": "https://localhost:8080/",
     "height": 17
    },
    "id": "oGhsMMpxnMGz",
    "outputId": "56bea363-bd43-45c4-fa33-5993ee179e02"
   },
   "outputs": [],
   "source": [
    "from google.colab import files\n",
    "\n",
    "file_path = '/content/fined_results.json'\n",
    "\n",
    "# Trigger download\n",
    "files.download(file_path)\n",
    "\n",
    "file_path = '/content/results.json'\n",
    "\n",
    "# Trigger download\n",
    "files.download(file_path)"
   ]
  },
  {
   "cell_type": "code",
   "execution_count": null,
   "metadata": {
    "id": "3P2SYMucPC3t"
   },
   "outputs": [],
   "source": []
  }
 ],
 "metadata": {
  "accelerator": "GPU",
  "colab": {
   "gpuType": "T4",
   "provenance": [],
   "toc_visible": true
  },
  "kernelspec": {
   "display_name": "Python 3",
   "name": "python3"
  },
  "language_info": {
   "name": "python"
  }
 },
 "nbformat": 4,
 "nbformat_minor": 0
}
