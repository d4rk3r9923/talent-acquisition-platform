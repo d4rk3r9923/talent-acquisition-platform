{
  "nbformat": 4,
  "nbformat_minor": 0,
  "metadata": {
    "colab": {
      "provenance": [],
      "gpuType": "T4"
    },
    "kernelspec": {
      "name": "python3",
      "display_name": "Python 3"
    },
    "language_info": {
      "name": "python"
    },
    "accelerator": "GPU"
  },
  "cells": [
    {
      "cell_type": "code",
      "source": [
        "%%capture\n",
        "!pip install jsonlines\n",
        "!pip install evaluate\n",
        "!pip install bert_score\n",
        "!unzip /content/model.zip"
      ],
      "metadata": {
        "id": "p2jgYfWi28wH"
      },
      "execution_count": null,
      "outputs": []
    },
    {
      "cell_type": "code",
      "source": [
        "import pickle\n",
        "\n",
        "# To load back the saved data\n",
        "with open('predictions_references.pkl', 'rb') as file:\n",
        "    data = pickle.load(file)\n",
        "    fined_predictions = data['fined_predictions']\n",
        "    fined_references = data['fined_references']\n",
        "    predictions = data['predictions']\n",
        "    references = data['references']"
      ],
      "metadata": {
        "colab": {
          "base_uri": "https://localhost:8080/",
          "height": 211
        },
        "id": "6u5tCWQNrkcd",
        "outputId": "f5bb41b1-2f54-4b65-d2a5-959c62dc10f7"
      },
      "execution_count": null,
      "outputs": [
        {
          "output_type": "error",
          "ename": "EOFError",
          "evalue": "Ran out of input",
          "traceback": [
            "\u001b[0;31m---------------------------------------------------------------------------\u001b[0m",
            "\u001b[0;31mEOFError\u001b[0m                                  Traceback (most recent call last)",
            "\u001b[0;32m<ipython-input-2-888ceaf0e0fb>\u001b[0m in \u001b[0;36m<cell line: 4>\u001b[0;34m()\u001b[0m\n\u001b[1;32m      3\u001b[0m \u001b[0;31m# To load back the saved data\u001b[0m\u001b[0;34m\u001b[0m\u001b[0;34m\u001b[0m\u001b[0m\n\u001b[1;32m      4\u001b[0m \u001b[0;32mwith\u001b[0m \u001b[0mopen\u001b[0m\u001b[0;34m(\u001b[0m\u001b[0;34m'predictions_references.pkl'\u001b[0m\u001b[0;34m,\u001b[0m \u001b[0;34m'rb'\u001b[0m\u001b[0;34m)\u001b[0m \u001b[0;32mas\u001b[0m \u001b[0mfile\u001b[0m\u001b[0;34m:\u001b[0m\u001b[0;34m\u001b[0m\u001b[0;34m\u001b[0m\u001b[0m\n\u001b[0;32m----> 5\u001b[0;31m     \u001b[0mdata\u001b[0m \u001b[0;34m=\u001b[0m \u001b[0mpickle\u001b[0m\u001b[0;34m.\u001b[0m\u001b[0mload\u001b[0m\u001b[0;34m(\u001b[0m\u001b[0mfile\u001b[0m\u001b[0;34m)\u001b[0m\u001b[0;34m\u001b[0m\u001b[0;34m\u001b[0m\u001b[0m\n\u001b[0m\u001b[1;32m      6\u001b[0m     \u001b[0mfined_predictions\u001b[0m \u001b[0;34m=\u001b[0m \u001b[0mdata\u001b[0m\u001b[0;34m[\u001b[0m\u001b[0;34m'fined_predictions'\u001b[0m\u001b[0;34m]\u001b[0m\u001b[0;34m\u001b[0m\u001b[0;34m\u001b[0m\u001b[0m\n\u001b[1;32m      7\u001b[0m     \u001b[0mfined_references\u001b[0m \u001b[0;34m=\u001b[0m \u001b[0mdata\u001b[0m\u001b[0;34m[\u001b[0m\u001b[0;34m'fined_references'\u001b[0m\u001b[0;34m]\u001b[0m\u001b[0;34m\u001b[0m\u001b[0;34m\u001b[0m\u001b[0m\n",
            "\u001b[0;31mEOFError\u001b[0m: Ran out of input"
          ]
        }
      ]
    },
    {
      "cell_type": "code",
      "source": [
        "def custom_metric():\n",
        "    succeed = 0\n",
        "    correct = 0\n",
        "    total_succeed_fail = 0\n",
        "    total_correct_wrong = 0\n",
        "\n",
        "    for prediction, reference in zip(predictions, references):\n",
        "        try:\n",
        "            reference = eval(reference)\n",
        "            prediction = eval(prediction)\n",
        "            keys = set(prediction.keys()) - set([\"summary\", \"location\", \"specialization\", \"industry\", \"leadership_experience\", \"project\", \"team_experience\", \"other\"])\n",
        "            total_succeed_fail = len(predictions)\n",
        "            total_correct_wrong = len(keys) * len(predictions)\n",
        "            succeed += 1\n",
        "            for key in keys:\n",
        "                if reference[key] == prediction[key]:\n",
        "                    correct += 1\n",
        "                else:\n",
        "                    print(key)\n",
        "                    pass\n",
        "        except:\n",
        "            pass\n",
        "\n",
        "    return float(f\"{succeed/total_succeed_fail * 100:.2f}\"), float(f\"{correct/total_correct_wrong * 100:.2f}\")"
      ],
      "metadata": {
        "id": "0xlXC07Yrv4l"
      },
      "execution_count": null,
      "outputs": []
    },
    {
      "cell_type": "code",
      "source": [
        "import evaluate\n",
        "import numpy as np\n",
        "\n",
        "# Load metrics\n",
        "bertscore_metric = evaluate.load(\"bertscore\")\n",
        "\n",
        "def compute_metrics(predictions, references):\n",
        "    bertscore = bertscore_metric.compute(predictions=predictions, references=references, lang=\"en\")\n",
        "    bertscore = {key: np.mean(bertscore[key]) for key in bertscore if key != \"hashcode\"}\n",
        "    succeed, correct = custom_metric()\n",
        "\n",
        "    return {\n",
        "        \"bertscore\": bertscore,\n",
        "        \"succeed\": succeed,\n",
        "        \"correct\": correct,\n",
        "        }"
      ],
      "metadata": {
        "id": "ifPOltssrz2m"
      },
      "execution_count": null,
      "outputs": []
    },
    {
      "cell_type": "code",
      "source": [
        "fined_results = compute_metrics(predictions=fined_predictions, references=fined_references)\n",
        "results = compute_metrics(predictions=predictions, references=references)"
      ],
      "metadata": {
        "colab": {
          "base_uri": "https://localhost:8080/",
          "height": 158
        },
        "id": "nhSSYXADqQOP",
        "outputId": "b840638b-27d2-4495-9999-214417e2249d"
      },
      "execution_count": null,
      "outputs": [
        {
          "output_type": "error",
          "ename": "NameError",
          "evalue": "name 'compute_metrics' is not defined",
          "traceback": [
            "\u001b[0;31m---------------------------------------------------------------------------\u001b[0m",
            "\u001b[0;31mNameError\u001b[0m                                 Traceback (most recent call last)",
            "\u001b[0;32m<ipython-input-2-8e804fdab3ae>\u001b[0m in \u001b[0;36m<cell line: 1>\u001b[0;34m()\u001b[0m\n\u001b[0;32m----> 1\u001b[0;31m \u001b[0mfined_results\u001b[0m \u001b[0;34m=\u001b[0m \u001b[0mcompute_metrics\u001b[0m\u001b[0;34m(\u001b[0m\u001b[0mpredictions\u001b[0m\u001b[0;34m=\u001b[0m\u001b[0mfined_predictions\u001b[0m\u001b[0;34m,\u001b[0m \u001b[0mreferences\u001b[0m\u001b[0;34m=\u001b[0m\u001b[0mfined_references\u001b[0m\u001b[0;34m)\u001b[0m\u001b[0;34m\u001b[0m\u001b[0;34m\u001b[0m\u001b[0m\n\u001b[0m\u001b[1;32m      2\u001b[0m \u001b[0mresults\u001b[0m \u001b[0;34m=\u001b[0m \u001b[0mcompute_metrics\u001b[0m\u001b[0;34m(\u001b[0m\u001b[0mpredictions\u001b[0m\u001b[0;34m=\u001b[0m\u001b[0mpredictions\u001b[0m\u001b[0;34m,\u001b[0m \u001b[0mreferences\u001b[0m\u001b[0;34m=\u001b[0m\u001b[0mreferences\u001b[0m\u001b[0;34m)\u001b[0m\u001b[0;34m\u001b[0m\u001b[0;34m\u001b[0m\u001b[0m\n",
            "\u001b[0;31mNameError\u001b[0m: name 'compute_metrics' is not defined"
          ]
        }
      ]
    },
    {
      "cell_type": "code",
      "source": [
        "from pprint import pprint\n",
        "print(\"fined_results:\\n\\n\")\n",
        "pprint(fined_results)\n",
        "print(\"\\n\\nresults:\\n\\n\")\n",
        "pprint(results)"
      ],
      "metadata": {
        "id": "zRr8e_r73MZG"
      },
      "execution_count": null,
      "outputs": []
    },
    {
      "cell_type": "code",
      "source": [
        "import json\n",
        "\n",
        "# Save to file\n",
        "with open('fined_results.json', 'w') as file:\n",
        "    json.dump(fined_results, file)\n",
        "\n",
        "with open('results.json', 'w') as file:\n",
        "    json.dump(results, file)"
      ],
      "metadata": {
        "id": "EaW2A7xc_DN4"
      },
      "execution_count": null,
      "outputs": []
    },
    {
      "cell_type": "code",
      "source": [],
      "metadata": {
        "id": "oGhsMMpxnMGz"
      },
      "execution_count": null,
      "outputs": []
    }
  ]
}