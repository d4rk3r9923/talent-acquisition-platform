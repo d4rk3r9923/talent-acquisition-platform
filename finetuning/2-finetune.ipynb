{
 "cells": [
  {
   "cell_type": "code",
   "execution_count": null,
   "metadata": {},
   "outputs": [],
   "source": [
    "import jsonlines\n",
    "from template_utils import make_question\n",
    "import lamini\n",
    "\n",
    "lamini.api_key = \"b1a1082334df151265156ef4a168352dff52db8e3064fa8d079f22b9051aeaf3\""
   ]
  },
  {
   "cell_type": "code",
   "execution_count": null,
   "metadata": {},
   "outputs": [],
   "source": [
    "def get_default_finetune_args():\n",
    "    return {\n",
    "        \"learning_rate\": 0.0003,\n",
    "        \"max_steps\": 60,\n",
    "        \"early_stopping\": False,\n",
    "        \"load_best_model_at_end\": False,\n",
    "        \"peft_args\": {\"r_value\": 32},\n",
    "    }"
   ]
  },
  {
   "cell_type": "code",
   "execution_count": null,
   "metadata": {},
   "outputs": [],
   "source": [
    "def load_training_data():\n",
    "    with jsonlines.open(\"train_data/results.jsonl\") as f:\n",
    "        for line in f:\n",
    "            yield {\n",
    "                \"input\": make_question().invoke({\"question\": line[\"question\"]}).to_string(),\n",
    "                \"output\": line[\"cypher\"] + \"<|eot_id|>\",\n",
    "            }"
   ]
  },
  {
   "cell_type": "code",
   "execution_count": null,
   "metadata": {},
   "outputs": [],
   "source": [
    "llm = lamini.Lamini(model_name=\"meta-llama/Meta-Llama-3.1-8B-Instruct\")\n",
    "\n",
    "dataset = list(load_training_data())\n",
    "finetune_args = get_default_finetune_args()\n",
    "\n",
    "llm.train(\n",
    "    data_or_dataset_id=dataset,\n",
    "    finetune_args=finetune_args,\n",
    "    is_public=False,  # For sharing\n",
    ")"
   ]
  }
 ],
 "metadata": {
  "kernelspec": {
   "display_name": "venv",
   "language": "python",
   "name": "python3"
  },
  "language_info": {
   "name": "python",
   "version": "3.12.3"
  }
 },
 "nbformat": 4,
 "nbformat_minor": 2
}
