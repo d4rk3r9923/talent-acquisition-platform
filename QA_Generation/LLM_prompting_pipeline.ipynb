{
 "cells": [
  {
   "cell_type": "code",
   "execution_count": 1,
   "metadata": {},
   "outputs": [],
   "source": [
    "import os\n",
    "\n",
    "os.environ[\"FIREWORKS_API_KEY\"] = \"fw_3ZcezLdtCxoWnqVZ2rrqU6do\"\n",
    "os.environ[\"MISTRAL_API_KEY\"] = \"pML2mc6ULk9DOp0UOT02KZvHh3jyitP5\"\n",
    "os.environ[\"AZURE_OPENAI_API_KEY\"] = \"ae503f6efa1a4211aa89b74a501a9551\"\n",
    "os.environ[\"AZURE_OPENAI_ENDPOINT\"] = \"https://genai4e.openai.azure.com/\""
   ]
  },
  {
   "cell_type": "code",
   "execution_count": 3,
   "metadata": {},
   "outputs": [],
   "source": [
    "from langchain_openai import AzureChatOpenAI\n",
    "\n",
    "llm = AzureChatOpenAI(\n",
    "    azure_deployment=\"gpt-35-turbo\",  # or your deployment\n",
    "    api_version=\"2023-03-15-preview\",  # or your api version\n",
    "    temperature=0.7,\n",
    "    max_tokens=700,\n",
    "    # other params...\n",
    ")\n",
    "\n",
    "# from langchain_ollama import ChatOllama\n",
    "\n",
    "# llm = ChatOllama(model=\"llama3.1\", num_predict=1000, temperature=0.7)\n",
    "\n",
    "# from langchain_mistralai import ChatMistralAI\n",
    "\n",
    "# llm = ChatMistralAI(\n",
    "#     model=\"mistral-large-2407\",\n",
    "#     temperature=0.7,\n",
    "#     max_retries=2,\n",
    "#     max_tokens=700,\n",
    "#     # other params...\n",
    "# )\n",
    "\n",
    "# from langchain_fireworks import ChatFireworks\n",
    "\n",
    "# llm = ChatFireworks(\n",
    "#     model=\"accounts/fireworks/models/llama-v3p1-70b-instruct\",\n",
    "#     temperature=1,\n",
    "#     max_tokens=1000,\n",
    "#     max_retries=2,\n",
    "#     # other params...\n",
    "# )"
   ]
  },
  {
   "cell_type": "code",
   "execution_count": 3,
   "metadata": {},
   "outputs": [],
   "source": [
    "from template_utils import categories_template, map_categories_template, get_schema, generate_QA_template\n",
    "from parse_utils import Categories, Pairs\n",
    "from typing import Annotated, TypedDict, List\n",
    "\n",
    "\n",
    "inital_chain = categories_template() | llm.with_structured_output(Categories)\n",
    "map_chain = map_categories_template() | llm.with_structured_output(Categories)\n",
    "generate_QA_chain = generate_QA_template() | llm.with_structured_output(Pairs)"
   ]
  },
  {
   "cell_type": "code",
   "execution_count": 4,
   "metadata": {},
   "outputs": [],
   "source": [
    "import operator\n",
    "from typing_extensions import TypedDict\n",
    "from langgraph.constants import Send\n",
    "from langgraph.graph import StateGraph, START, END\n",
    "\n",
    "\n",
    "class State(TypedDict):\n",
    "    schema: str\n",
    "    categories: Annotated[List, operator.add]\n",
    "    category: str\n",
    "    final_categories: List\n",
    "    question_cypher_pairs: Annotated[List, operator.add]\n",
    "    times: int\n",
    "    n_category: int\n",
    "    n_pair: int\n",
    "\n",
    "\n",
    "async def generate_category(state: State):\n",
    "    response = await inital_chain.ainvoke({\"schema\": state[\"schema\"], \"n_category\": state[\"n_category\"]})\n",
    "    return {\"categories\": response[\"categories\"]}\n",
    "\n",
    "\n",
    "def map_categories(state: State):\n",
    "    return [\n",
    "        Send(\"generate_category\", {\"schema\": state[\"schema\"], \"n_category\": state[\"n_category\"]}) for _ in range(state[\"times\"])\n",
    "    ]\n",
    "\n",
    "\n",
    "async def final_category(state: State):\n",
    "    response = await map_chain.ainvoke({\"categories\": state[\"categories\"]})\n",
    "    return {\"final_categories\": response[\"categories\"]}\n",
    "\n",
    "\n",
    "def map_generate_QA(state: State):\n",
    "    return [\n",
    "        Send(\"generate_QA\", {\"category\": category, \n",
    "                             \"n_pair\": state[\"n_pair\"], \n",
    "                             \"schema\": state[\"schema\"]}) for category in state[\"final_categories\"]\n",
    "    ]\n",
    "\n",
    "async def generate_QA(state: State):\n",
    "    response = await generate_QA_chain.ainvoke({\"category\": state[\"category\"], \n",
    "                                                \"n_pair\": state[\"n_pair\"], \n",
    "                                                \"schema\": state[\"schema\"]})\n",
    "    return response\n",
    "\n",
    "\n",
    "async def final_result(state: State):\n",
    "    return {\"question_cypher_pairs\": state[\"question_cypher_pairs\"]}"
   ]
  },
  {
   "cell_type": "code",
   "execution_count": 5,
   "metadata": {},
   "outputs": [],
   "source": [
    "graph_builder = StateGraph(State)\n",
    "graph_builder.add_node(\"generate_category\", generate_category)\n",
    "graph_builder.add_node(\"final_category\", final_category)\n",
    "graph_builder.add_node(\"generate_QA\", generate_QA)\n",
    "graph_builder.add_node(\"final_result\", final_result)\n",
    "graph_builder.add_conditional_edges(START, map_categories, [\"generate_category\"])\n",
    "graph_builder.add_edge(\"generate_category\", \"final_category\")\n",
    "graph_builder.add_conditional_edges(\"final_category\", map_generate_QA, [\"generate_QA\"])\n",
    "graph_builder.add_edge(\"generate_QA\", \"final_result\")\n",
    "graph_builder.add_edge(\"final_result\", END)\n",
    "graph = graph_builder.compile()\n",
    "\n",
    "# graph_builder = StateGraph(State)\n",
    "# graph_builder.add_node(\"generate_category\", generate_category)\n",
    "# graph_builder.add_node(\"final_categories\", final_categories)\n",
    "# graph_builder.add_conditional_edges(START, map_categories, [\"generate_category\"])\n",
    "# graph_builder.add_edge(\"generate_category\", \"final_categories\")\n",
    "# graph_builder.add_edge(\"final_categories\", END)\n",
    "# graph = graph_builder.compile()"
   ]
  },
  {
   "cell_type": "code",
   "execution_count": 6,
   "metadata": {},
   "outputs": [
    {
     "data": {
      "image/jpeg": "[encoded data removed]",
      "text/plain": [
       "<IPython.core.display.Image object>"
      ]
     },
     "metadata": {},
     "output_type": "display_data"
    }
   ],
   "source": [
    "from IPython.display import Image, display\n",
    "\n",
    "try:\n",
    "    display(Image(graph.get_graph().draw_mermaid_png()))\n",
    "except Exception:\n",
    "    # This requires some extra dependencies and is optional\n",
    "    pass"
   ]
  },
  {
   "cell_type": "code",
   "execution_count": 7,
   "metadata": {},
   "outputs": [
    {
     "name": "stdout",
     "output_type": "stream",
     "text": [
      "{'generate_category': {'categories': [{'category': \"Person's Education and Work Experience\", 'description': \"Questions about a person's education background and their work experience.\"}, {'category': \"Person's Skills and Achievements\", 'description': \"Questions about a person's skills and achievements.\"}]}}\n",
      "{'generate_category': {'categories': [{'category': 'Career Development', 'description': \"Questions about a person's career path, including their work experience, skills, and education.\"}, {'category': 'Achievements and Expertise', 'description': \"Questions about a person's achievements, such as publications, certifications, and relevant skills.\"}]}}\n",
      "{'final_category': {'final_categories': [{'category': 'Person', 'description': 'Questions about a person'}, {'category': 'Person', 'description': 'Questions about a person'}]}}\n",
      "{'generate_QA': {'question_cypher_pairs': [{'question': 'What is the name of the person who worked at Google?', 'cypher': 'MATCH (p:Person)-[:Worked_at]->(wp:WorkPlace {NAME: '}, {'question': 'What are the skills that are relevant to the position of Data Scientist?', 'cypher': 'MATCH (pos:Position {NAME: '}]}}\n",
      "{'generate_QA': {'question_cypher_pairs': [{'question': 'What is the name of the workplace where John worked?', 'cypher': 'MATCH (p:Person {name: \"John\"})-[:Worked_at]->(w:WorkPlace) RETURN w.NAME AS WorkplaceName'}, {'question': 'What are the skills that are relevant to the position of Data Scientist?', 'cypher': 'MATCH (pos:Position {NAME: \"Data Scientist\"})-[:Relevant_to]->(s:Skills) RETURN pos.NAME AS PositionName, s.NAME AS SkillName, s.category AS SkillCategory'}]}}\n",
      "{'final_result': {'question_cypher_pairs': [{'question': 'What is the name of the workplace where John worked?', 'cypher': 'MATCH (p:Person {name: \"John\"})-[:Worked_at]->(w:WorkPlace) RETURN w.NAME AS WorkplaceName'}, {'question': 'What are the skills that are relevant to the position of Data Scientist?', 'cypher': 'MATCH (pos:Position {NAME: \"Data Scientist\"})-[:Relevant_to]->(s:Skills) RETURN pos.NAME AS PositionName, s.NAME AS SkillName, s.category AS SkillCategory'}, {'question': 'What is the name of the person who worked at Google?', 'cypher': 'MATCH (p:Person)-[:Worked_at]->(wp:WorkPlace {NAME: '}, {'question': 'What are the skills that are relevant to the position of Data Scientist?', 'cypher': 'MATCH (pos:Position {NAME: '}]}}\n"
     ]
    }
   ],
   "source": [
    "async for event in graph.astream({\"schema\": get_schema(), \"times\": 2, \"n_pair\": 2, \"n_category\":2}):\n",
    "    print(event)"
   ]
  },
  {
   "cell_type": "code",
   "execution_count": 9,
   "metadata": {},
   "outputs": [
    {
     "name": "stdout",
     "output_type": "stream",
     "text": [
      "[{'cypher': 'MATCH (p:Person {name: \"John\"})-[:Worked_at]->(w:WorkPlace) '\n",
      "            'RETURN w.NAME AS WorkplaceName',\n",
      "  'question': 'What is the name of the workplace where John worked?'},\n",
      " {'cypher': 'MATCH (pos:Position {NAME: \"Data '\n",
      "            'Scientist\"})-[:Relevant_to]->(s:Skills) RETURN pos.NAME AS '\n",
      "            'PositionName, s.NAME AS SkillName, s.category AS SkillCategory',\n",
      "  'question': 'What are the skills that are relevant to the position of Data '\n",
      "              'Scientist?'},\n",
      " {'cypher': 'MATCH (p:Person)-[:Worked_at]->(wp:WorkPlace {NAME: ',\n",
      "  'question': 'What is the name of the person who worked at Google?'},\n",
      " {'cypher': 'MATCH (pos:Position {NAME: ',\n",
      "  'question': 'What are the skills that are relevant to the position of Data '\n",
      "              'Scientist?'}]\n"
     ]
    }
   ],
   "source": [
    "from pprint import pprint\n",
    "\n",
    "pprint(event[\"final_result\"][\"question_cypher_pairs\"])"
   ]
  },
  {
   "cell_type": "code",
   "execution_count": 11,
   "metadata": {},
   "outputs": [],
   "source": [
    "import jsonlines\n",
    "\n",
    "with jsonlines.open(\"result.jsonl\", \"w\") as writer:\n",
    "    writer.write_all(event[\"final_result\"][\"question_cypher_pairs\"])"
   ]
  },
  {
   "cell_type": "code",
   "execution_count": null,
   "metadata": {},
   "outputs": [],
   "source": []
  }
 ],
 "metadata": {
  "kernelspec": {
   "display_name": "venv",
   "language": "python",
   "name": "python3"
  },
  "language_info": {
   "codemirror_mode": {
    "name": "ipython",
    "version": 3
   },
   "file_extension": ".py",
   "mimetype": "text/x-python",
   "name": "python",
   "nbconvert_exporter": "python",
   "pygments_lexer": "ipython3",
   "version": "3.11.9"
  }
 },
 "nbformat": 4,
 "nbformat_minor": 2
}
